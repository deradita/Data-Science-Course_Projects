{
 "cells": [
  {
   "cell_type": "code",
   "execution_count": 4,
   "id": "2517264d",
   "metadata": {},
   "outputs": [],
   "source": [
    "import seaborn as sns\n",
    "import matplotlib.pyplot as plt\n",
    "%matplotlib inline"
   ]
  },
  {
   "cell_type": "code",
   "execution_count": 5,
   "id": "23fccadb",
   "metadata": {},
   "outputs": [],
   "source": [
    "from sklearn.datasets import make_blobs"
   ]
  },
  {
   "cell_type": "code",
   "execution_count": 8,
   "id": "63a4cbdf",
   "metadata": {},
   "outputs": [],
   "source": [
    " data = make_blobs(n_samples = 200, n_features = 2, centers = 5,\n",
    "                   cluster_std = 1.8, random_state = 101)"
   ]
  },
  {
   "cell_type": "code",
   "execution_count": 9,
   "id": "0f653dfe",
   "metadata": {},
   "outputs": [
    {
     "data": {
      "text/plain": [
       "(array([[  3.3351135 ,  11.16711959],\n",
       "        [  2.17474403,   1.13147551],\n",
       "        [  5.18221853,  -3.90933608],\n",
       "        [ -2.05337454,   9.72971014],\n",
       "        [  8.18408586,  -6.72649991],\n",
       "        [  6.57522583,  -5.58807951],\n",
       "        [  4.98355982,  -5.24735244],\n",
       "        [  5.73957213,   8.29397061],\n",
       "        [ -3.47505406,   7.43934369],\n",
       "        [ -2.16128362,   4.08184363],\n",
       "        [ -2.74298212,  -0.67306321],\n",
       "        [  3.01610137,  -4.43511592],\n",
       "        [ -8.84039494,  -5.35549354],\n",
       "        [  3.98212914,   6.97968609],\n",
       "        [  2.16679181,   9.56300522],\n",
       "        [  3.70904703,  -9.40426767],\n",
       "        [  0.03541003,   2.28780746],\n",
       "        [ -8.02054658,  -7.8456836 ],\n",
       "        [  1.85230075,   3.93319729],\n",
       "        [ -1.53826173,   5.21128674],\n",
       "        [  0.67140233,   4.97511492],\n",
       "        [ -1.21138032,   4.18893447],\n",
       "        [ -3.30473029,   2.74557144],\n",
       "        [ -8.7222861 ,  -7.70447881],\n",
       "        [-11.40636291, -10.00398275],\n",
       "        [ -1.37015897,   2.2859047 ],\n",
       "        [ -1.55623061,   3.74032798],\n",
       "        [  6.86412992,  -5.73829173],\n",
       "        [ -8.26204953,  -5.92347393],\n",
       "        [  5.1493725 ,   3.67637105],\n",
       "        [  0.66762411,   0.04738204],\n",
       "        [ -5.17371501,   6.57606405],\n",
       "        [  3.46810859,   4.27477213],\n",
       "        [  1.1523418 ,  10.61501242],\n",
       "        [  0.27188369,   4.9052299 ],\n",
       "        [ -7.38985009,  -5.61883075],\n",
       "        [ -1.71798771,   1.4140114 ],\n",
       "        [ -6.36540992,   8.13773724],\n",
       "        [  2.11460477,   3.55938488],\n",
       "        [  2.93478607,  -7.09031528],\n",
       "        [  1.9499108 ,   4.77920618],\n",
       "        [ -9.51273313,  -6.54720909],\n",
       "        [-10.81890696,  -6.37070754],\n",
       "        [  2.66085026,   8.85418636],\n",
       "        [  1.02282712,   5.16458509],\n",
       "        [  4.18641472,  -7.48042152],\n",
       "        [  6.56000194,   8.35132137],\n",
       "        [  3.00157949,   9.81619576],\n",
       "        [  5.06295821,   5.28826409],\n",
       "        [  4.30109775,   4.76444924],\n",
       "        [-12.98120466,  -8.12995994],\n",
       "        [-11.17902209,  -9.30976605],\n",
       "        [  4.65783156,  -5.36234145],\n",
       "        [  1.48143396,   5.24076692],\n",
       "        [  6.68617577,  -8.08824612],\n",
       "        [  2.88702392,  -6.87351224],\n",
       "        [ -9.13930933,  -5.07011409],\n",
       "        [  4.03940181,   4.88870433],\n",
       "        [-11.92419687,  -8.96295498],\n",
       "        [  4.20669615,   0.3148858 ],\n",
       "        [  1.55414928,   3.27657687],\n",
       "        [  1.16911341,   8.24556988],\n",
       "        [  4.49133992,  -6.5975952 ],\n",
       "        [  0.91613165,   7.46139251],\n",
       "        [  2.3268655 ,   8.41007576],\n",
       "        [ -5.5321597 ,  10.96097189],\n",
       "        [  2.96044599,  -5.98110503],\n",
       "        [ -6.56254983,   9.77730406],\n",
       "        [  4.80148276,   7.19358863],\n",
       "        [ -4.37413779,  11.63523206],\n",
       "        [ -9.35588757,  -7.3094666 ],\n",
       "        [ -2.67082305,   7.27300415],\n",
       "        [  2.28041844,  -6.46263725],\n",
       "        [  4.18471184,   7.42058154],\n",
       "        [  5.30579523,   3.3672677 ],\n",
       "        [  5.97336628,   5.87172022],\n",
       "        [ -1.45990175,   1.76759085],\n",
       "        [ -9.74381724,  -5.16531539],\n",
       "        [  2.12450071,  -3.90310431],\n",
       "        [ -7.87501869,  -9.37924348],\n",
       "        [ -4.14017196,   6.04845117],\n",
       "        [ -3.44651893,   8.98584598],\n",
       "        [  1.03445241,   1.81203497],\n",
       "        [  5.42590701,  -6.54414098],\n",
       "        [  1.27983684,   0.35315078],\n",
       "        [ -8.27526555,  -8.1987467 ],\n",
       "        [ -4.54082629,  11.39201739],\n",
       "        [  7.43509684,  -3.53695505],\n",
       "        [  3.16835529,   6.73039191],\n",
       "        [ -1.35185444,   3.13245345],\n",
       "        [ -5.30579332,   7.4159987 ],\n",
       "        [  0.59262074,   0.55034527],\n",
       "        [  0.66479669,   0.09423047],\n",
       "        [  3.64356269,   7.91707242],\n",
       "        [  4.40212266,  -8.78085598],\n",
       "        [ -3.65443003,   7.2089841 ],\n",
       "        [ -9.0749723 ,  -2.4241898 ],\n",
       "        [ -8.21095227,  -6.52257701],\n",
       "        [ -3.64621467,   9.07054785],\n",
       "        [-12.45142605,  -5.96841529],\n",
       "        [  2.72047184,   7.57204577],\n",
       "        [  3.87562815,  -7.71694061],\n",
       "        [ -1.4813639 ,   0.07813027],\n",
       "        [-11.94743689,  -6.96432616],\n",
       "        [ -0.52173471,   8.7763122 ],\n",
       "        [  4.84777373,  -5.92147951],\n",
       "        [-11.3753641 ,  -4.94525091],\n",
       "        [ -3.95284076,   7.08183115],\n",
       "        [ -2.31355268,   0.52398009],\n",
       "        [-10.87888819,  -6.1131804 ],\n",
       "        [ -1.33860111,   4.76650719],\n",
       "        [ -8.13309779,  -8.77111454],\n",
       "        [ -6.41838466,   8.45124885],\n",
       "        [ -8.23114069,  -7.5383892 ],\n",
       "        [  3.85228168,   5.93059324],\n",
       "        [  1.04002154,  -8.56667683],\n",
       "        [  3.80213026,   2.87073368],\n",
       "        [ -9.2619851 ,  -4.33610417],\n",
       "        [  0.87277036,   4.462053  ],\n",
       "        [ -8.45546407,   7.81479304],\n",
       "        [  1.86271189,  -3.93236512],\n",
       "        [  5.33062618,   5.70970077],\n",
       "        [  3.20242125,   8.590816  ],\n",
       "        [ -5.40562319,   7.47228315],\n",
       "        [  1.34394454,  -3.77113849],\n",
       "        [ -4.70443692,   9.42043626],\n",
       "        [ -5.80668851,   7.87162266],\n",
       "        [  5.59211552,  -6.73696767],\n",
       "        [ -0.34976106,   1.82795716],\n",
       "        [  4.17659803,  -6.04726906],\n",
       "        [  0.08525926,   2.11630185],\n",
       "        [ -9.00392334,  -6.20816203],\n",
       "        [  2.10607071,  -4.39941695],\n",
       "        [  5.79121319,  -3.03660178],\n",
       "        [  4.45521217, -10.08289869],\n",
       "        [  1.7818432 ,   1.54467915],\n",
       "        [  3.47985419,   4.97587863],\n",
       "        [  4.025956  ,   5.54968752],\n",
       "        [  3.54002579,  -6.07203497],\n",
       "        [  3.54480244,   7.93535678],\n",
       "        [ -6.63698251,   6.39426436],\n",
       "        [ -2.43124429,  10.31974315],\n",
       "        [ -4.66324662,   9.10683437],\n",
       "        [-10.45396192,  -4.03635803],\n",
       "        [ -8.81214493,  -6.21627131],\n",
       "        [  5.26001172,   4.74007434],\n",
       "        [-10.12038011,  -7.30634015],\n",
       "        [ -1.32773569,   7.98200905],\n",
       "        [  5.41036387,  -4.94428859],\n",
       "        [ -3.69741787,  10.25134922],\n",
       "        [ -1.71289834,   2.51221197],\n",
       "        [ -8.88037875,  -6.13184717],\n",
       "        [  4.0786124 ,  -7.37503595],\n",
       "        [  5.98543917,  -7.5093541 ],\n",
       "        [  1.55237005,  -9.92512636],\n",
       "        [  7.66905901,  -8.56435751],\n",
       "        [  0.6284009 ,   1.74545508],\n",
       "        [ -5.81806021,   3.25028114],\n",
       "        [ -6.53831172,  -8.57784482],\n",
       "        [  5.26504674, -10.17281659],\n",
       "        [  0.0370824 ,   5.59122928],\n",
       "        [  5.86867888,   5.20110356],\n",
       "        [ -2.35883747,   7.6194843 ],\n",
       "        [-10.1345974 ,  -4.71863919],\n",
       "        [  5.48533076,   7.60283616],\n",
       "        [  1.47778918,   2.00671508],\n",
       "        [  2.05859724,  -2.44083039],\n",
       "        [  7.14842186,  -5.88679114],\n",
       "        [-10.38896242,  -2.75765759],\n",
       "        [  0.2711301 ,   2.58303824],\n",
       "        [  0.11778058,   4.83651037],\n",
       "        [ -2.2037303 ,  10.30070914],\n",
       "        [ -4.18810225,   6.78643776],\n",
       "        [ -1.03161306,   0.78979843],\n",
       "        [ -7.55528887,   7.57229858],\n",
       "        [ -0.56681469,   0.05602628],\n",
       "        [  2.20957371,  -7.90316224],\n",
       "        [ -2.47112954,   8.40185152],\n",
       "        [  0.75660108,   5.00732585],\n",
       "        [  9.1131094 ,  -7.30381445],\n",
       "        [ -3.12702   ,   9.32637853],\n",
       "        [ -2.04749217,   8.46587217],\n",
       "        [  1.35387148,   3.73867406],\n",
       "        [ -4.25646239,   8.39929283],\n",
       "        [  6.12309372,  -4.85802272],\n",
       "        [ -9.88392998,  -7.61018334],\n",
       "        [ -8.37419034,  -9.48799296],\n",
       "        [  2.71396283,   8.37361821],\n",
       "        [ -7.67422005,  -7.26839654],\n",
       "        [-14.35710574,  -3.82895508],\n",
       "        [ -8.11827275,  -8.12313116],\n",
       "        [  7.35871917,   4.79449216],\n",
       "        [-10.11470177,  -9.5684734 ],\n",
       "        [  1.33375749,   3.25801024],\n",
       "        [  6.85916559,   7.92992136],\n",
       "        [  2.03477094,   8.20236427],\n",
       "        [ -8.78631161,   6.09898645],\n",
       "        [ -3.03385808,   8.92618442],\n",
       "        [-11.19951226,  -2.55276744],\n",
       "        [  5.01871366,   2.64366773]]),\n",
       " array([2, 0, 4, 3, 4, 4, 4, 2, 3, 0, 0, 4, 1, 2, 2, 4, 0, 1, 2, 3, 0, 0,\n",
       "        0, 1, 1, 0, 0, 4, 1, 2, 0, 3, 2, 3, 0, 1, 0, 3, 0, 4, 2, 1, 1, 2,\n",
       "        0, 4, 2, 2, 2, 2, 1, 1, 4, 2, 4, 4, 1, 2, 1, 0, 0, 2, 4, 2, 2, 3,\n",
       "        4, 3, 2, 3, 1, 3, 4, 2, 2, 2, 0, 1, 4, 1, 3, 3, 0, 4, 0, 1, 3, 4,\n",
       "        2, 0, 3, 0, 0, 2, 4, 3, 1, 1, 3, 1, 2, 4, 0, 1, 3, 4, 1, 3, 0, 1,\n",
       "        0, 1, 3, 1, 2, 4, 2, 1, 0, 3, 4, 2, 2, 3, 4, 3, 3, 4, 0, 4, 0, 1,\n",
       "        4, 4, 4, 0, 2, 2, 4, 2, 3, 3, 3, 1, 1, 2, 1, 3, 4, 3, 0, 1, 4, 4,\n",
       "        4, 4, 0, 3, 1, 4, 3, 2, 3, 1, 2, 0, 0, 4, 1, 0, 0, 3, 3, 0, 3, 0,\n",
       "        4, 3, 0, 4, 3, 3, 2, 3, 4, 1, 1, 2, 1, 1, 1, 2, 1, 0, 2, 2, 3, 3,\n",
       "        1, 0]))"
      ]
     },
     "execution_count": 9,
     "metadata": {},
     "output_type": "execute_result"
    }
   ],
   "source": [
    "data"
   ]
  },
  {
   "cell_type": "code",
   "execution_count": 10,
   "id": "8d55d2a0",
   "metadata": {},
   "outputs": [
    {
     "data": {
      "text/plain": [
       "array([2, 0, 4, 3, 4, 4, 4, 2, 3, 0, 0, 4, 1, 2, 2, 4, 0, 1, 2, 3, 0, 0,\n",
       "       0, 1, 1, 0, 0, 4, 1, 2, 0, 3, 2, 3, 0, 1, 0, 3, 0, 4, 2, 1, 1, 2,\n",
       "       0, 4, 2, 2, 2, 2, 1, 1, 4, 2, 4, 4, 1, 2, 1, 0, 0, 2, 4, 2, 2, 3,\n",
       "       4, 3, 2, 3, 1, 3, 4, 2, 2, 2, 0, 1, 4, 1, 3, 3, 0, 4, 0, 1, 3, 4,\n",
       "       2, 0, 3, 0, 0, 2, 4, 3, 1, 1, 3, 1, 2, 4, 0, 1, 3, 4, 1, 3, 0, 1,\n",
       "       0, 1, 3, 1, 2, 4, 2, 1, 0, 3, 4, 2, 2, 3, 4, 3, 3, 4, 0, 4, 0, 1,\n",
       "       4, 4, 4, 0, 2, 2, 4, 2, 3, 3, 3, 1, 1, 2, 1, 3, 4, 3, 0, 1, 4, 4,\n",
       "       4, 4, 0, 3, 1, 4, 3, 2, 3, 1, 2, 0, 0, 4, 1, 0, 0, 3, 3, 0, 3, 0,\n",
       "       4, 3, 0, 4, 3, 3, 2, 3, 4, 1, 1, 2, 1, 1, 1, 2, 1, 0, 2, 2, 3, 3,\n",
       "       1, 0])"
      ]
     },
     "execution_count": 10,
     "metadata": {},
     "output_type": "execute_result"
    }
   ],
   "source": [
    "data[1]"
   ]
  },
  {
   "cell_type": "code",
   "execution_count": 11,
   "id": "32ed48e3",
   "metadata": {},
   "outputs": [
    {
     "data": {
      "text/plain": [
       "<matplotlib.collections.PathCollection at 0x2aad533fbe0>"
      ]
     },
     "execution_count": 11,
     "metadata": {},
     "output_type": "execute_result"
    },
    {
     "data": {
      "image/png": "[encoded data removed]",
      "text/plain": [
       "<Figure size 432x288 with 1 Axes>"
      ]
     },
     "metadata": {
      "needs_background": "light"
     },
     "output_type": "display_data"
    }
   ],
   "source": [
    "plt.scatter(data[0][:, 0],  data[0][:, 1], c = data[1], cmap = 'rainbow')"
   ]
  },
  {
   "cell_type": "markdown",
   "id": "ebe216e3",
   "metadata": {},
   "source": [
    "## Let's create the clusters"
   ]
  },
  {
   "cell_type": "code",
   "execution_count": 12,
   "id": "be9e6a99",
   "metadata": {},
   "outputs": [],
   "source": [
    "from sklearn.cluster import KMeans "
   ]
  },
  {
   "cell_type": "code",
   "execution_count": 13,
   "id": "82d38de5",
   "metadata": {},
   "outputs": [],
   "source": [
    "kmeans = KMeans(n_clusters = 5)"
   ]
  },
  {
   "cell_type": "code",
   "execution_count": 14,
   "id": "51b618cb",
   "metadata": {},
   "outputs": [
    {
     "data": {
      "text/plain": [
       "KMeans(n_clusters=5)"
      ]
     },
     "execution_count": 14,
     "metadata": {},
     "output_type": "execute_result"
    }
   ],
   "source": [
    "kmeans.fit(data[0])"
   ]
  },
  {
   "cell_type": "code",
   "execution_count": 15,
   "id": "466cc24d",
   "metadata": {},
   "outputs": [
    {
     "ename": "AttributeError",
     "evalue": "'KMeans' object has no attribute 'cluster_centers'",
     "output_type": "error",
     "traceback": [
      "\u001b[1;31m---------------------------------------------------------------------------\u001b[0m",
      "\u001b[1;31mAttributeError\u001b[0m                            Traceback (most recent call last)",
      "Input \u001b[1;32mIn [15]\u001b[0m, in \u001b[0;36m<cell line: 1>\u001b[1;34m()\u001b[0m\n\u001b[1;32m----> 1\u001b[0m \u001b[43mkmeans\u001b[49m\u001b[38;5;241;43m.\u001b[39;49m\u001b[43mcluster_centers\u001b[49m\n",
      "\u001b[1;31mAttributeError\u001b[0m: 'KMeans' object has no attribute 'cluster_centers'"
     ]
    }
   ],
   "source": [
    "kmeans.cluster_centers"
   ]
  },
  {
   "cell_type": "code",
   "execution_count": null,
   "id": "ab319ea5",
   "metadata": {},
   "outputs": [],
   "source": [
    "9"
   ]
  }
 ],
 "metadata": {
  "kernelspec": {
   "display_name": "Python 3 (ipykernel)",
   "language": "python",
   "name": "python3"
  },
  "language_info": {
   "codemirror_mode": {
    "name": "ipython",
    "version": 3
   },
   "file_extension": ".py",
   "mimetype": "text/x-python",
   "name": "python",
   "nbconvert_exporter": "python",
   "pygments_lexer": "ipython3",
   "version": "3.8.13"
  }
 },
 "nbformat": 4,
 "nbformat_minor": 5
}
